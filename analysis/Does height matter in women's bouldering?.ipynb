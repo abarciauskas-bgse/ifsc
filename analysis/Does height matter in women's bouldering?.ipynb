{
 "cells": [
  {
   "cell_type": "code",
   "execution_count": 2,
   "metadata": {},
   "outputs": [
    {
     "name": "stderr",
     "output_type": "stream",
     "text": [
      "/Users/aimeebarciauskas/Library/Python/3.6/lib/python/site-packages/psycopg2/__init__.py:144: UserWarning: The psycopg2 wheel package will be renamed from release 2.8; in order to keep installing from binary please use \"pip install psycopg2-binary\" instead. For details see: <http://initd.org/psycopg/docs/install.html#binary-install-from-pypi>.\n",
      "  \"\"\")\n"
     ]
    }
   ],
   "source": [
    "import sys\n",
    "sys.path.append('/Users/aimeebarciauskas/Library/Python/3.6/lib/python/site-packages')\n",
    "sys.path.append('/Users/aimeebarciauskas/Projects/ifsc/')\n",
    "import psycopg2\n",
    "import helpers\n",
    "import matplotlib.pyplot as plt\n",
    "from sklearn import linear_model\n",
    "import numpy as np\n",
    "from scipy import stats"
   ]
  },
  {
   "cell_type": "code",
   "execution_count": 41,
   "metadata": {},
   "outputs": [
    {
     "data": {
      "image/png": "[encoded data removed]",
      "text/plain": [
       "<matplotlib.figure.Figure at 0x1a12a18be0>"
      ]
     },
     "metadata": {},
     "output_type": "display_data"
    },
    {
     "data": {
      "text/plain": [
       "162.42632331902718"
      ]
     },
     "execution_count": 41,
     "metadata": {},
     "output_type": "execute_result"
    }
   ],
   "source": [
    "# Heights for all female boulderers\n",
    "rows = helpers.fetch_all(\n",
    "    'athletes.height',\n",
    "    'bouldering_comp_results join athletes on athletes.id = bouldering_comp_results.athlete_id',\n",
    "    \"athletes.height is not NULL and bouldering_comp_results.category = 'womens_bouldering'\")\n",
    "all_wboulder_heights = list(map(lambda row: row[0], rows))\n",
    "\n",
    "plt.hist(all_wboulder_heights, bins=30)\n",
    "plt.show()\n",
    "np.mean(all_wboulder_heights)"
   ]
  },
  {
   "cell_type": "code",
   "execution_count": 17,
   "metadata": {},
   "outputs": [
    {
     "data": {
      "image/png": "[encoded data removed]",
      "text/plain": [
       "<matplotlib.figure.Figure at 0x1a133f25c0>"
      ]
     },
     "metadata": {},
     "output_type": "display_data"
    }
   ],
   "source": [
    "# Heights for female boulderers who finish first\n",
    "rows = helpers.fetch_all(\n",
    "    'athletes.height',\n",
    "    'bouldering_comp_results join athletes on athletes.id = bouldering_comp_results.athlete_id',\n",
    "    \"\"\"\n",
    "    athletes.height is not NULL and \n",
    "    bouldering_comp_results.category = 'womens_bouldering' and \n",
    "    bouldering_comp_results.comp_stage_rank = 1\n",
    "    \"\"\")\n",
    "first_wboulder_heights = list(map(lambda row: row[0], rows))\n",
    "\n",
    "plt.hist(first_wboulder_heights, bins=30)\n",
    "plt.show()"
   ]
  },
  {
   "cell_type": "code",
   "execution_count": 18,
   "metadata": {},
   "outputs": [
    {
     "name": "stdout",
     "output_type": "stream",
     "text": [
      "Mean for all women is 162.42632331902718\n",
      "Mean for women who come in first (both final and semifinal) is 163.51351351351352\n"
     ]
    }
   ],
   "source": [
    "mean_all = np.mean(all_wboulder_heights)\n",
    "mean_firsts = np.mean(first_wboulder_heights)\n",
    "\n",
    "print('Mean for all women is {0}'.format(mean_all))\n",
    "print('Mean for women who come in first (both final and semifinal) is {0}'.format(mean_firsts))"
   ]
  },
  {
   "cell_type": "markdown",
   "metadata": {},
   "source": [
    "Null hypothesis: The height of women coming in first place at IFSC bouldering world cups is the same as for all women boulderers.\n",
    "Alternative hypothesis: The height of women coming in first place at IFSC bouldering world cups is higher than for all women entering the world cup."
   ]
  },
  {
   "cell_type": "code",
   "execution_count": 23,
   "metadata": {},
   "outputs": [],
   "source": [
    "# For my own edification\n",
    "# Reference: https://towardsdatascience.com/inferential-statistics-series-t-test-using-numpy-2718f8f9bf2f\n",
    "\n",
    "def var(x):\n",
    "    numpy_x = np.array(x)\n",
    "    M = np.mean(numpy_x)\n",
    "    numer = np.sum((numpy_x - M)**2)\n",
    "    return numer / len(numpy_x)\n",
    "\n",
    "def tstat(x, y, N):\n",
    "    meanx, meany = np.mean(x), np.mean(y)\n",
    "    varx, vary = var(x), var(y)\n",
    "    numer = meanx - meany\n",
    "    denom = np.sqrt((varx / N) + (vary / N))\n",
    "    return numer / denom\n",
    "\n",
    "def pvalue(tstat, N):\n",
    "    df = 2*N - 2\n",
    "    return 1 - stats.t.cdf(tstat, df = df)"
   ]
  },
  {
   "cell_type": "code",
   "execution_count": 28,
   "metadata": {},
   "outputs": [
    {
     "data": {
      "text/plain": [
       "0.25237476252374763"
      ]
     },
     "execution_count": 28,
     "metadata": {},
     "output_type": "execute_result"
    }
   ],
   "source": [
    "def run_tests(x, y, sample_size=25, ntests=10000):\n",
    "    pvalues = []\n",
    "    iter_idx = 0\n",
    "    while iter_idx <= ntests:\n",
    "        # Sample populations\n",
    "        random_sample_x = np.random.choice(x, size=sample_size)\n",
    "        random_sample_y = np.random.choice(y, size=sample_size)\n",
    "        #tstat = tstat(random_sample_firsts, random_sample_all, N)\n",
    "        #pvalue = pvalue(tstat, N)\n",
    "        # Can sanity check above values with stats.ttest_ind\n",
    "        t2, p2 = stats.ttest_ind(random_sample_x, random_sample_y, equal_var=False)\n",
    "        pvalues.append(p2)\n",
    "        iter_idx += 1\n",
    "    return pvalues\n",
    "\n",
    "pvalues = run_tests(all_wboulder_heights, first_wboulder_heights)\n",
    "np.sum(np.array(pvalues) <= 0.05)/len(pvalues)"
   ]
  },
  {
   "cell_type": "markdown",
   "metadata": {},
   "source": [
    "Can only reject the null hypothesis that women's heights are different for first place finishers about in about 24% of tests."
   ]
  },
  {
   "cell_type": "markdown",
   "metadata": {},
   "source": [
    "## What about only in the final?"
   ]
  },
  {
   "cell_type": "code",
   "execution_count": 20,
   "metadata": {},
   "outputs": [
    {
     "data": {
      "image/png": "[encoded data removed]",
      "text/plain": [
       "<matplotlib.figure.Figure at 0x1a136184e0>"
      ]
     },
     "metadata": {},
     "output_type": "display_data"
    }
   ],
   "source": [
    "# Heights for all female boulderers in the final\n",
    "rows = helpers.fetch_all(\n",
    "    'athletes.height',\n",
    "    'bouldering_comp_results join athletes on athletes.id = bouldering_comp_results.athlete_id',\n",
    "    \"\"\"\n",
    "    athletes.height is not NULL and \n",
    "    bouldering_comp_results.category = 'womens_bouldering' and \n",
    "    bouldering_comp_results.comp_stage = 'final'\n",
    "    \"\"\")\n",
    "all_wboulder_heights_final = list(map(lambda row: row[0], rows))\n",
    "\n",
    "plt.hist(all_wboulder_heights_final, bins=30)\n",
    "plt.show()"
   ]
  },
  {
   "cell_type": "code",
   "execution_count": 21,
   "metadata": {},
   "outputs": [
    {
     "data": {
      "image/png": "[encoded data removed]",
      "text/plain": [
       "<matplotlib.figure.Figure at 0x1a136e77f0>"
      ]
     },
     "metadata": {},
     "output_type": "display_data"
    }
   ],
   "source": [
    "# Heights for all female boulderers in the final\n",
    "rows = helpers.fetch_all(\n",
    "    'athletes.height',\n",
    "    'bouldering_comp_results join athletes on athletes.id = bouldering_comp_results.athlete_id',\n",
    "    \"\"\"\n",
    "    athletes.height is not NULL and \n",
    "    bouldering_comp_results.category = 'womens_bouldering' and \n",
    "    bouldering_comp_results.comp_stage = 'final' and\n",
    "    bouldering_comp_results.comp_stage_rank = 1\n",
    "    \"\"\")\n",
    "first_wboulder_heights_final = list(map(lambda row: row[0], rows))\n",
    "\n",
    "plt.hist(first_wboulder_heights_final, bins=30)\n",
    "plt.show()"
   ]
  },
  {
   "cell_type": "code",
   "execution_count": 43,
   "metadata": {},
   "outputs": [
    {
     "name": "stdout",
     "output_type": "stream",
     "text": [
      "Mean height for all women in final: 162.7154811715481\n",
      "Mean for women coming in first in the finals: 163.32203389830508\n"
     ]
    }
   ],
   "source": [
    "mean_all = np.mean(all_wboulder_heights_final)\n",
    "mean_firsts = np.mean(first_wboulder_heights_final)\n",
    "print('Mean height for all women in final: {0}'.format(mean_all))\n",
    "print('Mean for women coming in first in the finals: {0}'.format(mean_firsts))"
   ]
  },
  {
   "cell_type": "code",
   "execution_count": 30,
   "metadata": {},
   "outputs": [
    {
     "data": {
      "text/plain": [
       "0.1227877212278772"
      ]
     },
     "execution_count": 30,
     "metadata": {},
     "output_type": "execute_result"
    }
   ],
   "source": [
    "pvalues = run_tests(all_wboulder_heights_final, first_wboulder_heights_final)\n",
    "np.sum(np.array(pvalues) <= 0.05)/len(pvalues)"
   ]
  },
  {
   "cell_type": "markdown",
   "metadata": {},
   "source": [
    "Even less evidence if looking only at the final."
   ]
  },
  {
   "cell_type": "code",
   "execution_count": 44,
   "metadata": {},
   "outputs": [
    {
     "data": {
      "image/png": "[encoded data removed]",
      "text/plain": [
       "<matplotlib.figure.Figure at 0x1a0f692be0>"
      ]
     },
     "metadata": {},
     "output_type": "display_data"
    }
   ],
   "source": [
    "# Heights for all female boulderers in the semifinal\n",
    "rows = helpers.fetch_all(\n",
    "    'athletes.height',\n",
    "    'bouldering_comp_results join athletes on athletes.id = bouldering_comp_results.athlete_id',\n",
    "    \"\"\"\n",
    "    athletes.height is not NULL and \n",
    "    bouldering_comp_results.category = 'womens_bouldering' and \n",
    "    bouldering_comp_results.comp_stage = 'semifinal'\n",
    "    \"\"\")\n",
    "all_wboulder_heights_semifinal = list(map(lambda row: row[0], rows))\n",
    "\n",
    "plt.hist(all_wboulder_heights_semifinal, bins=30)\n",
    "plt.show()"
   ]
  },
  {
   "cell_type": "code",
   "execution_count": 45,
   "metadata": {},
   "outputs": [
    {
     "name": "stdout",
     "output_type": "stream",
     "text": [
      "Mean height semifinalists: 162.27608695652174\n",
      "Mean height finalists: 162.7154811715481\n"
     ]
    },
    {
     "data": {
      "text/plain": [
       "0.0740925907409259"
      ]
     },
     "execution_count": 45,
     "metadata": {},
     "output_type": "execute_result"
    }
   ],
   "source": [
    "mean_final = np.mean(all_wboulder_heights_final)\n",
    "mean_semifinal = np.mean(all_wboulder_heights_semifinal)\n",
    "\n",
    "print('Mean height semifinalists: {0}'.format(mean_semifinal))\n",
    "print('Mean height finalists: {0}'.format(mean_final))\n",
    "\n",
    "pvalues = run_tests(all_wboulder_heights_final, all_wboulder_heights_semifinal)\n",
    "np.sum(np.array(pvalues) <= 0.05)/len(pvalues)"
   ]
  },
  {
   "cell_type": "code",
   "execution_count": 76,
   "metadata": {},
   "outputs": [
    {
     "data": {
      "text/plain": [
       "<Container object of 5 artists>"
      ]
     },
     "execution_count": 76,
     "metadata": {},
     "output_type": "execute_result"
    },
    {
     "data": {
      "image/png": "[encoded data removed]",
      "text/plain": [
       "<matplotlib.figure.Figure at 0x1a163b2780>"
      ]
     },
     "metadata": {},
     "output_type": "display_data"
    }
   ],
   "source": [
    "title = 'IFSC World Cup Finalists and Semfinalists Average Height'\n",
    "averages = {\n",
    "    'All': np.mean(all_wboulder_heights),\n",
    "    'Semifinalists': np.mean(all_wboulder_heights_semifinal),\n",
    "    'Finalists': np.mean(all_wboulder_heights_final),\n",
    "    '1st in semis or finals': np.mean(first_wboulder_heights),\n",
    "    '1st in finals': np.mean(first_wboulder_heights_final)\n",
    "}\n",
    "\n",
    "keys, values = averages.keys(), averages.values()\n",
    "\n",
    "plt.ylim((np.mean(all_wboulder_heights_semifinal) - 0.1), np.mean(first_wboulder_heights) + 0.1)\n",
    "plt.xticks(rotation=50)\n",
    "plt.bar(keys, values)"
   ]
  },
  {
   "cell_type": "code",
   "execution_count": 95,
   "metadata": {},
   "outputs": [
    {
     "data": {
      "image/png": "[encoded data removed]",
      "text/plain": [
       "<matplotlib.figure.Figure at 0x1a17a9fb70>"
      ]
     },
     "metadata": {},
     "output_type": "display_data"
    }
   ],
   "source": [
    "import pandas as pd\n",
    "df = pd.DataFrame.from_dict(averages, orient = 'index')\n",
    "barplot = df.plot(kind = 'bar', ylim=[162.2, 163.6], legend=False, title=title, rot=25, figsize=(16,))\n",
    "barplot.get_figure().savefig(\"myplot.pdf\")"
   ]
  }
 ],
 "metadata": {
  "kernelspec": {
   "display_name": "Python 3",
   "language": "python",
   "name": "python3"
  },
  "language_info": {
   "codemirror_mode": {
    "name": "ipython",
    "version": 3
   },
   "file_extension": ".py",
   "mimetype": "text/x-python",
   "name": "python",
   "nbconvert_exporter": "python",
   "pygments_lexer": "ipython3",
   "version": "3.6.4"
  }
 },
 "nbformat": 4,
 "nbformat_minor": 2
}
