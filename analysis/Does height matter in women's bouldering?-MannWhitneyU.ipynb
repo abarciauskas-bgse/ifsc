{
 "cells": [
  {
   "cell_type": "code",
   "execution_count": 2,
   "metadata": {},
   "outputs": [],
   "source": [
    "import sys\n",
    "sys.path.append('/Users/aimeebarciauskas/Library/Python/3.6/lib/python/site-packages')\n",
    "sys.path.append('/Users/aimeebarciauskas/Projects/ifsc/')\n",
    "import psycopg2\n",
    "import helpers\n",
    "import matplotlib.pyplot as plt\n",
    "from sklearn import linear_model\n",
    "import numpy as np\n",
    "from scipy import stats"
   ]
  },
  {
   "cell_type": "code",
   "execution_count": 3,
   "metadata": {},
   "outputs": [
    {
     "data": {
      "image/png": "[encoded data removed]",
      "text/plain": [
       "<matplotlib.figure.Figure at 0x1a17a61da0>"
      ]
     },
     "metadata": {},
     "output_type": "display_data"
    },
    {
     "data": {
      "text/plain": [
       "162.42632331902718"
      ]
     },
     "execution_count": 3,
     "metadata": {},
     "output_type": "execute_result"
    }
   ],
   "source": [
    "where_query = \"\"\"\n",
    "athletes.height is not NULL and bouldering_comp_results.category = 'womens_bouldering'\n",
    "\"\"\"\n",
    "common_params = (\n",
    "    'athletes.height',\n",
    "    'bouldering_comp_results join athletes on athletes.id = bouldering_comp_results.athlete_id'\n",
    ")\n",
    "# Heights for all female boulderers\n",
    "all_wboulder_heights = helpers.format_rows(helpers.fetch_all(*common_params, where_query))\n",
    "\n",
    "plt.hist(all_wboulder_heights, bins=30)\n",
    "plt.show()\n",
    "np.mean(all_wboulder_heights)"
   ]
  },
  {
   "cell_type": "code",
   "execution_count": 4,
   "metadata": {},
   "outputs": [
    {
     "data": {
      "image/png": "[encoded data removed]",
      "text/plain": [
       "<matplotlib.figure.Figure at 0x19162dfc50>"
      ]
     },
     "metadata": {},
     "output_type": "display_data"
    },
    {
     "data": {
      "text/plain": [
       "163.51351351351352"
      ]
     },
     "execution_count": 4,
     "metadata": {},
     "output_type": "execute_result"
    }
   ],
   "source": [
    "first_place_where_query = '{0} and bouldering_comp_results.comp_stage_rank = 1'.format(where_query)\n",
    "firsts_wboulder_heights = helpers.format_rows(helpers.fetch_all(*common_params, first_place_where_query))\n",
    "\n",
    "plt.hist(firsts_wboulder_heights, bins=30)\n",
    "plt.show()\n",
    "np.mean(firsts_wboulder_heights)"
   ]
  },
  {
   "cell_type": "code",
   "execution_count": 5,
   "metadata": {},
   "outputs": [
    {
     "data": {
      "image/png": "[encoded data removed]",
      "text/plain": [
       "<matplotlib.figure.Figure at 0x19162dfbe0>"
      ]
     },
     "metadata": {},
     "output_type": "display_data"
    },
    {
     "data": {
      "text/plain": [
       "162.22108843537416"
      ]
     },
     "execution_count": 5,
     "metadata": {},
     "output_type": "execute_result"
    }
   ],
   "source": [
    "other_place_where_query = '{0} and bouldering_comp_results.comp_stage_rank > 1'.format(where_query)\n",
    "other_wboulder_heights = helpers.format_rows(helpers.fetch_all(*common_params, other_place_where_query))\n",
    "\n",
    "plt.hist(other_wboulder_heights, bins=30)\n",
    "plt.show()\n",
    "np.mean(other_wboulder_heights)"
   ]
  },
  {
   "cell_type": "code",
   "execution_count": 6,
   "metadata": {},
   "outputs": [
    {
     "data": {
      "text/plain": [
       "1.3952752701634355e-05"
      ]
     },
     "execution_count": 6,
     "metadata": {},
     "output_type": "execute_result"
    }
   ],
   "source": [
    "test_stats = stats.mannwhitneyu(firsts_wboulder_heights, other_wboulder_heights)\n",
    "test_stats.pvalue"
   ]
  },
  {
   "cell_type": "code",
   "execution_count": 7,
   "metadata": {},
   "outputs": [
    {
     "data": {
      "text/plain": [
       "0.46635336466353366"
      ]
     },
     "execution_count": 7,
     "metadata": {},
     "output_type": "execute_result"
    }
   ],
   "source": [
    "pvalues = helpers.run_tests(firsts_wboulder_heights, other_wboulder_heights, stats.mannwhitneyu)\n",
    "np.sum(np.array(pvalues) <= 0.05)/len(pvalues)"
   ]
  },
  {
   "cell_type": "code",
   "execution_count": 9,
   "metadata": {},
   "outputs": [
    {
     "data": {
      "text/plain": [
       "0.3160683931606839"
      ]
     },
     "execution_count": 9,
     "metadata": {},
     "output_type": "execute_result"
    }
   ],
   "source": [
    "pvalues = helpers.run_tests(firsts_wboulder_heights, other_wboulder_heights)\n",
    "np.sum(np.array(pvalues) <= 0.05)/len(pvalues)"
   ]
  }
 ],
 "metadata": {
  "kernelspec": {
   "display_name": "Python 3",
   "language": "python",
   "name": "python3"
  },
  "language_info": {
   "codemirror_mode": {
    "name": "ipython",
    "version": 3
   },
   "file_extension": ".py",
   "mimetype": "text/x-python",
   "name": "python",
   "nbconvert_exporter": "python",
   "pygments_lexer": "ipython3",
   "version": "3.6.4"
  }
 },
 "nbformat": 4,
 "nbformat_minor": 2
}
