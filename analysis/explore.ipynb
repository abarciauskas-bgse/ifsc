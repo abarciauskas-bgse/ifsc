{
 "cells": [
  {
   "cell_type": "code",
   "execution_count": 36,
   "metadata": {},
   "outputs": [
    {
     "name": "stdout",
     "output_type": "stream",
     "text": [
      "[4, 1]\n"
     ]
    }
   ],
   "source": [
    "import sys\n",
    "sys.path.append('/Users/aimeebarciauskas/Library/Python/3.6/lib/python/site-packages')\n",
    "import psycopg2\n",
    "\n",
    "conn = psycopg2.connect('dbname=ifsc')\n",
    "query = \"select previous_heat from bouldering_comp_results where comp_stage_rank = 1 and comp_stage = 'final';\"\n",
    "cursor = conn.cursor()\n",
    "cursor.execute(query)\n",
    "rows = cursor.fetchall()\n",
    "previous_heat_final = list(map(lambda row: row[0], rows))"
   ]
  },
  {
   "cell_type": "code",
   "execution_count": 35,
   "metadata": {},
   "outputs": [
    {
     "data": {
      "image/png": "[encoded data removed]",
      "text/plain": [
       "<matplotlib.figure.Figure at 0x10fb97fd0>"
      ]
     },
     "metadata": {},
     "output_type": "display_data"
    }
   ],
   "source": [
    "import matplotlib.pyplot as plt\n",
    "\n",
    "plt.hist(previous_heat_final, bins=6)\n",
    "plt.show()"
   ]
  },
  {
   "cell_type": "code",
   "execution_count": 39,
   "metadata": {},
   "outputs": [
    {
     "data": {
      "text/plain": [
       "[None, None]"
      ]
     },
     "execution_count": 39,
     "metadata": {},
     "output_type": "execute_result"
    }
   ],
   "source": [
    "query = \"select previous_heat from bouldering_comp_results where comp_stage_rank = 1 and comp_stage = 'semifinal';\"\n",
    "cursor = conn.cursor()\n",
    "cursor.execute(query)\n",
    "rows = cursor.fetchall()\n",
    "previous_heat_semifinal = list(map(lambda row: row[0], rows))\n",
    "\n",
    "#plt.hist(previous_heat_semifinal)\n",
    "#plt.show()"
   ]
  },
  {
   "cell_type": "code",
   "execution_count": 33,
   "metadata": {},
   "outputs": [
    {
     "data": {
      "image/png": "[encoded data removed]",
      "text/plain": [
       "<matplotlib.figure.Figure at 0x10fc41940>"
      ]
     },
     "metadata": {},
     "output_type": "display_data"
    }
   ],
   "source": [
    "query = \"select boulder_1_top_tries from bouldering_comp_results;\"\n",
    "cursor = conn.cursor()\n",
    "cursor.execute(query)\n",
    "rows = cursor.fetchall()\n",
    "boulder_1_top_tries = list(filter(lambda x: x != None, map(lambda row: row[0], rows)))\n",
    "\n",
    "plt.hist(boulder_1_top_tries)\n",
    "plt.show()"
   ]
  },
  {
   "cell_type": "code",
   "execution_count": 46,
   "metadata": {},
   "outputs": [
    {
     "data": {
      "text/plain": [
       "[(159, 17),\n",
       " (159, 14),\n",
       " (163, 1),\n",
       " (163, 1),\n",
       " (163, 4),\n",
       " (163, 1),\n",
       " (164, 1),\n",
       " (164, 2),\n",
       " (162, 18),\n",
       " (162, 6),\n",
       " (162, 3),\n",
       " (162, 3),\n",
       " (162, 3),\n",
       " (160, 12),\n",
       " (160, 2),\n",
       " (160, 5),\n",
       " (160, 15),\n",
       " (163, 1),\n",
       " (163, 1),\n",
       " (163, 8),\n",
       " (163, 10),\n",
       " (163, 8),\n",
       " (164, 18),\n",
       " (164, 17),\n",
       " (153, 6),\n",
       " (153, 4),\n",
       " (165, 1),\n",
       " (165, 3),\n",
       " (165, 3),\n",
       " (165, 4),\n",
       " (165, 4),\n",
       " (165, 1),\n",
       " (165, 20),\n",
       " (165, 13),\n",
       " (163, 4),\n",
       " (163, 4),\n",
       " (163, 9),\n",
       " (166, 2),\n",
       " (166, 5),\n",
       " (166, 12),\n",
       " (155, 10),\n",
       " (174, 10)]"
      ]
     },
     "execution_count": 46,
     "metadata": {},
     "output_type": "execute_result"
    }
   ],
   "source": [
    "query = \"\"\"\n",
    "select athletes.height, bouldering_comp_results.comp_stage_rank\n",
    "from bouldering_comp_results join athletes on athletes.id = bouldering_comp_results.athlete_id\n",
    "where athletes.height is not NULL and bouldering_comp_results.category = 'womens_bouldering';\n",
    "\"\"\"\n",
    "\n",
    "conn = psycopg2.connect('dbname=ifsc')\n",
    "cursor = conn.cursor()\n",
    "cursor.execute(query)\n",
    "rows = cursor.fetchall()\n",
    "rows"
   ]
  }
 ],
 "metadata": {
  "kernelspec": {
   "display_name": "Python 3",
   "language": "python",
   "name": "python3"
  },
  "language_info": {
   "codemirror_mode": {
    "name": "ipython",
    "version": 3
   },
   "file_extension": ".py",
   "mimetype": "text/x-python",
   "name": "python",
   "nbconvert_exporter": "python",
   "pygments_lexer": "ipython3",
   "version": "3.6.4"
  }
 },
 "nbformat": 4,
 "nbformat_minor": 2
}
